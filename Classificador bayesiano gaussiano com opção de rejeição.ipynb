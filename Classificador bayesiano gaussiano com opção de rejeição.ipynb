{
 "cells": [
  {
   "cell_type": "code",
   "execution_count": 574,
   "metadata": {},
   "outputs": [],
   "source": [
    "import pandas as pd\n",
    "import numpy as np"
   ]
  },
  {
   "cell_type": "code",
   "execution_count": 575,
   "metadata": {},
   "outputs": [],
   "source": [
    "import math\n",
    "def calculateProbability(x, cov_matrix, means, d):\n",
    "    det = np.linalg.det(cov_matrix)\n",
    "    inverse = np.linalg.inv(cov_matrix)\n",
    "    a = x - means\n",
    "    k = np.dot(np.transpose(a),inverse)\n",
    "    expoent = math.exp((-1/2)*np.dot(k,a))\n",
    "    return expoent/((2*math.pi)**(d/2) * math.sqrt(abs(det)))"
   ]
  },
  {
   "cell_type": "code",
   "execution_count": 576,
   "metadata": {},
   "outputs": [],
   "source": [
    "import collections \n",
    "def pre_prob(y,n):\n",
    "    y_dict = collections.Counter(y)\n",
    "    pre_probab = np.ones(n)\n",
    "    for i in range(0, n):\n",
    "        pre_probab[i] = y_dict[i]/y.shape[0]\n",
    "    return pre_probab"
   ]
  },
  {
   "cell_type": "code",
   "execution_count": 577,
   "metadata": {},
   "outputs": [],
   "source": [
    "import operator\n",
    "def max_probability(X,Y,cov_matrices,means,nattr,classes):\n",
    "    probabilities = {}\n",
    "    pre_probab = pre_prob(Y,classes)\n",
    "    for i in range(classes):\n",
    "        prob = calculateProbability(X, cov_matrices[i],means[i],nattr)\n",
    "        probabilities[i] =  prob*pre_probab[i]    \n",
    "    return [max(probabilities.items(), key=operator.itemgetter(1))[0],max(probabilities.items(), key=operator.itemgetter(1))[1]]"
   ]
  },
  {
   "cell_type": "code",
   "execution_count": null,
   "metadata": {},
   "outputs": [],
   "source": [
    " "
   ]
  },
  {
   "cell_type": "code",
   "execution_count": 578,
   "metadata": {},
   "outputs": [],
   "source": [
    "def predict_with_reject_option(X,Y,cov_matrices,means,nattr,classes,wr,max_prob):\n",
    "    probabilities = 0\n",
    "    pre_probab = pre_prob(Y,classes)\n",
    "    for i in range(classes):\n",
    "        prob = calculateProbability(X, cov_matrices[i],means[i],nattr)*pre_probab[i]\n",
    "        probabilities +=  prob    \n",
    "    prob_total = max_prob[1]/probabilities \n",
    "    if prob_total >= 1 - wr:\n",
    "        return max_prob[0] \n",
    "    else: \n",
    "        return None"
   ]
  },
  {
   "cell_type": "code",
   "execution_count": 579,
   "metadata": {},
   "outputs": [],
   "source": [
    "def getAccuracy(testSet, predictions):\n",
    "    correct = 0\n",
    "    reject = 0\n",
    "    for x in range(len(testSet)):\n",
    "        if testSet[x][-1] == predictions[x]:\n",
    "            correct += 1\n",
    "        if predictions[x] == None:\n",
    "            reject +=1\n",
    "    return [(correct/float(len(testSet))) * 100.0,(reject/float(len(testSet))) * 100.0]"
   ]
  },
  {
   "cell_type": "markdown",
   "metadata": {},
   "source": [
    "# Iris Dataset"
   ]
  },
  {
   "cell_type": "code",
   "execution_count": 532,
   "metadata": {},
   "outputs": [],
   "source": [
    "iris = pd.read_csv('iris.data.txt',names=['sepal_length','sepal_width','petal_length','petal_width','class'])"
   ]
  },
  {
   "cell_type": "code",
   "execution_count": 533,
   "metadata": {},
   "outputs": [],
   "source": [
    "iris_copy = iris.copy()\n",
    "train = iris_copy.sample(frac=0.80, random_state=2)\n",
    "test = iris_copy.drop(train.index)"
   ]
  },
  {
   "cell_type": "code",
   "execution_count": 534,
   "metadata": {},
   "outputs": [],
   "source": [
    "setosa = train[train['class'] == 0]\n",
    "versi_virg = train[(train['class'] == 1) | (train['class'] == 2)] "
   ]
  },
  {
   "cell_type": "code",
   "execution_count": 535,
   "metadata": {},
   "outputs": [],
   "source": [
    "mean_setosa = np.array(setosa.iloc[0:,:4].mean())\n",
    "mean_versi_virg = np.array(versi_virg.iloc[0:,:4].mean())"
   ]
  },
  {
   "cell_type": "code",
   "execution_count": 536,
   "metadata": {},
   "outputs": [],
   "source": [
    "cov_matrix_setosa = np.cov(np.transpose(setosa.iloc[0:,:4]))\n",
    "cov_matrix_versi_virg = np.cov(np.transpose(versi_virg.iloc[0:,:4]))"
   ]
  },
  {
   "cell_type": "code",
   "execution_count": 537,
   "metadata": {},
   "outputs": [],
   "source": [
    "cov_matrices = [cov_matrix_setosa,cov_matrix_versi_virg]\n",
    "means = [mean_setosa,mean_versi_virg]"
   ]
  },
  {
   "cell_type": "code",
   "execution_count": 538,
   "metadata": {},
   "outputs": [],
   "source": [
    "test['class'] = test['class'].apply(lambda x: 1 if x == 1 or x == 2 else 0)"
   ]
  },
  {
   "cell_type": "code",
   "execution_count": 539,
   "metadata": {},
   "outputs": [],
   "source": [
    "predictions = []\n",
    "for i in test.iloc[0:,:4].values:\n",
    "    d = max_probability(i,train['class'].values,cov_matrices,means,4,2)\n",
    "    p = predict_with_reject_option(i,train['class'].values,cov_matrices,means,4,2,0.48,d)\n",
    "    predictions.append(p)"
   ]
  },
  {
   "cell_type": "code",
   "execution_count": 540,
   "metadata": {},
   "outputs": [
    {
     "data": {
      "text/plain": [
       "[100.0, 0.0]"
      ]
     },
     "execution_count": 540,
     "metadata": {},
     "output_type": "execute_result"
    }
   ],
   "source": [
    "getAccuracy(test.values, predictions)"
   ]
  },
  {
   "cell_type": "code",
   "execution_count": null,
   "metadata": {},
   "outputs": [],
   "source": []
  },
  {
   "cell_type": "code",
   "execution_count": null,
   "metadata": {},
   "outputs": [],
   "source": []
  },
  {
   "cell_type": "code",
   "execution_count": null,
   "metadata": {},
   "outputs": [],
   "source": []
  },
  {
   "cell_type": "code",
   "execution_count": null,
   "metadata": {},
   "outputs": [],
   "source": []
  },
  {
   "cell_type": "code",
   "execution_count": null,
   "metadata": {},
   "outputs": [],
   "source": []
  },
  {
   "cell_type": "code",
   "execution_count": 541,
   "metadata": {},
   "outputs": [],
   "source": [
    "accuracies = []\n",
    "#realizações\n",
    "for i in range(20):\n",
    "    iris_copy = iris.copy()\n",
    "    train = iris_copy.sample(frac=0.80, random_state=i)\n",
    "    test = iris_copy.drop(train.index)\n",
    "    #separando classes\n",
    "    setosa = train[train['class'] == 0]\n",
    "    versi_virg = train[(train['class'] == 1) | (train['class'] == 2)] \n",
    "    #separando médias por classe\n",
    "    mean_setosa = np.array(setosa.iloc[0:,:4].mean())\n",
    "    mean_versi_virg = np.array(versi_virg.iloc[0:,:4].mean())\n",
    "    #separando matrizes de covariancia por classe\n",
    "    cov_matrix_setosa = np.cov(np.transpose(setosa.iloc[0:,:4]))\n",
    "    cov_matrix_versi_virg = np.cov(np.transpose(versi_virg.iloc[0:,:4]))\n",
    "    #array de matrizes de covariancias\n",
    "    cov_matrices = [cov_matrix_setosa,cov_matrix_versi_virg]\n",
    "    #array de medias\n",
    "    means = [mean_setosa,mean_versi_virg]\n",
    "    predictions = []\n",
    "    test['class'] = test['class'].apply(lambda x: 1 if x == 1 or x == 2 else 0)\n",
    "    for i in test.iloc[0:,:4].values:\n",
    "        d = max_probability(i,train['class'].values,cov_matrices,means,4,2)\n",
    "        p = predict_with_reject_option(i,train['class'].values,cov_matrices,means,4,2,0.04,d)\n",
    "        predictions.append(p)\n",
    "    a = getAccuracy(test.values,predictions)\n",
    "    accuracies.append(a)"
   ]
  },
  {
   "cell_type": "code",
   "execution_count": 545,
   "metadata": {},
   "outputs": [
    {
     "data": {
      "text/plain": [
       "50.0"
      ]
     },
     "execution_count": 545,
     "metadata": {},
     "output_type": "execute_result"
    }
   ],
   "source": [
    "np.mean(accuracies[0])"
   ]
  },
  {
   "cell_type": "code",
   "execution_count": 546,
   "metadata": {},
   "outputs": [
    {
     "data": {
      "text/plain": [
       "[100.0, 0.0]"
      ]
     },
     "execution_count": 546,
     "metadata": {},
     "output_type": "execute_result"
    }
   ],
   "source": [
    "accuracies[0]"
   ]
  },
  {
   "cell_type": "code",
   "execution_count": 551,
   "metadata": {},
   "outputs": [],
   "source": [
    "accuracies_avg = []\n",
    "for i in accuracies:\n",
    "    accuracies_avg.append(i[0])"
   ]
  },
  {
   "cell_type": "code",
   "execution_count": 554,
   "metadata": {},
   "outputs": [
    {
     "data": {
      "text/plain": [
       "100.0"
      ]
     },
     "execution_count": 554,
     "metadata": {},
     "output_type": "execute_result"
    }
   ],
   "source": [
    "np.mean(accuracies_avg)"
   ]
  },
  {
   "cell_type": "code",
   "execution_count": 560,
   "metadata": {},
   "outputs": [],
   "source": [
    "medias = [100,100,100,100,100]\n",
    "wr = [0.04,0.12,0.24,0.36,0.48]"
   ]
  },
  {
   "cell_type": "code",
   "execution_count": 562,
   "metadata": {},
   "outputs": [
    {
     "data": {
      "text/plain": [
       "Text(0.5, 0, 'limiar de rejeição')"
      ]
     },
     "execution_count": 562,
     "metadata": {},
     "output_type": "execute_result"
    },
    {
     "data": {
      "image/png": "[encoded data removed]",
      "text/plain": [
       "<Figure size 432x288 with 1 Axes>"
      ]
     },
     "metadata": {
      "needs_background": "light"
     },
     "output_type": "display_data"
    }
   ],
   "source": [
    "import matplotlib.pyplot as plt\n",
    "plt.plot(wr,medias)\n",
    "plt.ylabel('acurácias')\n",
    "plt.xlabel('limiar de rejeição')\n"
   ]
  },
  {
   "cell_type": "code",
   "execution_count": null,
   "metadata": {},
   "outputs": [],
   "source": []
  },
  {
   "cell_type": "markdown",
   "metadata": {},
   "source": [
    "# Coluna Vertebral"
   ]
  },
  {
   "cell_type": "code",
   "execution_count": 580,
   "metadata": {},
   "outputs": [],
   "source": [
    "from scipy.io import arff"
   ]
  },
  {
   "cell_type": "code",
   "execution_count": 581,
   "metadata": {},
   "outputs": [],
   "source": [
    "data = arff.loadarff('column_3C_weka.arff')\n",
    "df = pd.DataFrame(data[0])"
   ]
  },
  {
   "cell_type": "code",
   "execution_count": 582,
   "metadata": {},
   "outputs": [],
   "source": [
    "df['class'] = pd.to_numeric(df['class'])"
   ]
  },
  {
   "cell_type": "code",
   "execution_count": 583,
   "metadata": {},
   "outputs": [],
   "source": [
    "df_copy = df.copy()\n",
    "train = df_copy.sample(frac=0.80, random_state=5)\n",
    "test = df_copy.drop(train.index)"
   ]
  },
  {
   "cell_type": "code",
   "execution_count": 584,
   "metadata": {},
   "outputs": [],
   "source": [
    "hern_espo = train[(train['class'] == 1) | (train['class'] == 0)]\n",
    "normal = train[train['class'] == 2]"
   ]
  },
  {
   "cell_type": "code",
   "execution_count": 585,
   "metadata": {},
   "outputs": [],
   "source": [
    "mean_normal = np.array(normal.iloc[0:,:6].mean())\n",
    "mean_hern_espo = np.array(hern_espo.iloc[0:,:6].mean())"
   ]
  },
  {
   "cell_type": "code",
   "execution_count": 586,
   "metadata": {},
   "outputs": [],
   "source": [
    "cov_matrix_normal = np.cov(np.transpose(normal.iloc[0:,:6]))\n",
    "cov_matrix_hern_espo = np.cov(np.transpose(hern_espo.iloc[0:,:6]))"
   ]
  },
  {
   "cell_type": "code",
   "execution_count": 587,
   "metadata": {},
   "outputs": [],
   "source": [
    "cov_matrices = [cov_matrix_normal,cov_matrix_hern_espo]\n",
    "means = [mean_normal,mean_hern_espo]"
   ]
  },
  {
   "cell_type": "code",
   "execution_count": 588,
   "metadata": {},
   "outputs": [],
   "source": [
    "test['class'] = test['class'].apply(lambda x: 1 if x == 0 or x == 1 else 0)"
   ]
  },
  {
   "cell_type": "code",
   "execution_count": 590,
   "metadata": {},
   "outputs": [],
   "source": [
    "predictions = []\n",
    "for i in test.iloc[0:,:6].values:\n",
    "    d = max_probability(i,train['class'].values,cov_matrices,means,6,2)\n",
    "    p = predict_with_reject_option(i,train['class'].values,cov_matrices,means,6,2,0.04,d)\n",
    "    predictions.append(p)"
   ]
  },
  {
   "cell_type": "code",
   "execution_count": 591,
   "metadata": {},
   "outputs": [
    {
     "data": {
      "text/plain": [
       "[62.903225806451616, 35.483870967741936]"
      ]
     },
     "execution_count": 591,
     "metadata": {},
     "output_type": "execute_result"
    }
   ],
   "source": [
    "getAccuracy(test.values, predictions)"
   ]
  },
  {
   "cell_type": "code",
   "execution_count": null,
   "metadata": {},
   "outputs": [],
   "source": []
  },
  {
   "cell_type": "code",
   "execution_count": 660,
   "metadata": {},
   "outputs": [],
   "source": [
    "accuracies = []\n",
    "#realizações\n",
    "for i in range(20):\n",
    "    df_copy = df.copy()\n",
    "    train = df_copy.sample(frac=0.80, random_state=i)\n",
    "    test = df_copy.drop(train.index)\n",
    "    #separando classes\n",
    "    hern_espo = train[(train['class'] == 1) | (train['class'] == 0)]\n",
    "    normal = train[train['class'] == 2]\n",
    "    #separando médias por classe\n",
    "    mean_normal = np.array(normal.iloc[0:,:6].mean())\n",
    "    mean_hern_espo = np.array(hern_espo.iloc[0:,:6].mean())\n",
    "    #separando matrizes de covariancia por classe\n",
    "    cov_matrix_normal = np.cov(np.transpose(normal.iloc[0:,:6]))\n",
    "    cov_matrix_hern_espo = np.cov(np.transpose(hern_espo.iloc[0:,:6]))\n",
    "    #array de matrizes de covariancias\n",
    "    cov_matrices = [cov_matrix_normal,cov_matrix_hern_espo]\n",
    "    #array de medias\n",
    "    means = [mean_normal,mean_hern_espo]\n",
    "    predictions = []\n",
    "    test['class'] = test['class'].apply(lambda x: 1 if x == 0 or x == 1 else 0)\n",
    "    predictions = []\n",
    "    for i in test.iloc[0:,:6].values:\n",
    "        d = max_probability(i,train['class'].values,cov_matrices,means,6,2)\n",
    "        p = predict_with_reject_option(i,train['class'].values,cov_matrices,means,6,2,0.48,d)\n",
    "        predictions.append(p)\n",
    "    a = getAccuracy(test.values,predictions)\n",
    "    accuracies.append(a)"
   ]
  },
  {
   "cell_type": "code",
   "execution_count": null,
   "metadata": {},
   "outputs": [],
   "source": []
  },
  {
   "cell_type": "code",
   "execution_count": 661,
   "metadata": {},
   "outputs": [],
   "source": [
    "accuracies_avg = []\n",
    "for i in accuracies:\n",
    "    accuracies_avg.append(i[1])"
   ]
  },
  {
   "cell_type": "code",
   "execution_count": 662,
   "metadata": {},
   "outputs": [
    {
     "data": {
      "text/plain": [
       "0.7258064516129031"
      ]
     },
     "execution_count": 662,
     "metadata": {},
     "output_type": "execute_result"
    }
   ],
   "source": [
    "np.mean(accuracies_avg)"
   ]
  },
  {
   "cell_type": "code",
   "execution_count": 657,
   "metadata": {},
   "outputs": [
    {
     "data": {
      "text/plain": [
       "4.824576132627747"
      ]
     },
     "execution_count": 657,
     "metadata": {},
     "output_type": "execute_result"
    }
   ],
   "source": [
    "np.std(accuracies_avg)"
   ]
  },
  {
   "cell_type": "code",
   "execution_count": 617,
   "metadata": {},
   "outputs": [],
   "source": [
    "medias = [59.1,68.9,73.7,77.5,80.7]\n",
    "wr = [0.04,0.12,0.24,0.36,0.48]"
   ]
  },
  {
   "cell_type": "code",
   "execution_count": 618,
   "metadata": {},
   "outputs": [
    {
     "data": {
      "text/plain": [
       "Text(0.5, 0, 'limiar de rejeição')"
      ]
     },
     "execution_count": 618,
     "metadata": {},
     "output_type": "execute_result"
    },
    {
     "data": {
      "image/png": "[encoded data removed]",
      "text/plain": [
       "<Figure size 432x288 with 1 Axes>"
      ]
     },
     "metadata": {
      "needs_background": "light"
     },
     "output_type": "display_data"
    }
   ],
   "source": [
    "import matplotlib.pyplot as plt\n",
    "plt.plot(wr,medias)\n",
    "plt.ylabel('acurácias')\n",
    "plt.xlabel('limiar de rejeição')"
   ]
  },
  {
   "cell_type": "markdown",
   "metadata": {},
   "source": [
    "# Arttificial "
   ]
  },
  {
   "cell_type": "code",
   "execution_count": 663,
   "metadata": {},
   "outputs": [],
   "source": [
    "features_1 = np.array([[np.random.uniform(-0.1, 0.1), np.random.uniform(-0.1, 0.1), 0] for _ in range(50)])\n",
    "features_2 = np.array([[np.random.uniform(-0.1, 0.1), np.random.uniform(0.9, 1.1), 1] for _ in range(50)])\n",
    "features_3 = np.array([[np.random.uniform(0.9, 1.1), np.random.uniform(-0.1, 0.1), 2] for _ in range(50)])"
   ]
  },
  {
   "cell_type": "code",
   "execution_count": 664,
   "metadata": {},
   "outputs": [],
   "source": [
    "dataset = np.concatenate([features_1, features_2, features_3], axis=0)"
   ]
  },
  {
   "cell_type": "code",
   "execution_count": 665,
   "metadata": {},
   "outputs": [],
   "source": [
    "art = pd.DataFrame(dataset)"
   ]
  },
  {
   "cell_type": "code",
   "execution_count": 666,
   "metadata": {},
   "outputs": [],
   "source": [
    "art_copy = art.copy()\n",
    "train = art_copy.sample(frac=0.80, random_state=2)\n",
    "test = art_copy.drop(train.index)"
   ]
  },
  {
   "cell_type": "code",
   "execution_count": 671,
   "metadata": {},
   "outputs": [],
   "source": [
    "class_1 = train[train[2] == 0]\n",
    "class_2 = train[train[2] == 1]\n",
    "class_3 = train[train[2] == 1]"
   ]
  },
  {
   "cell_type": "code",
   "execution_count": 672,
   "metadata": {},
   "outputs": [
    {
     "data": {
      "text/html": [
       "<div>\n",
       "<style scoped>\n",
       "    .dataframe tbody tr th:only-of-type {\n",
       "        vertical-align: middle;\n",
       "    }\n",
       "\n",
       "    .dataframe tbody tr th {\n",
       "        vertical-align: top;\n",
       "    }\n",
       "\n",
       "    .dataframe thead th {\n",
       "        text-align: right;\n",
       "    }\n",
       "</style>\n",
       "<table border=\"1\" class=\"dataframe\">\n",
       "  <thead>\n",
       "    <tr style=\"text-align: right;\">\n",
       "      <th></th>\n",
       "      <th>0</th>\n",
       "      <th>1</th>\n",
       "      <th>2</th>\n",
       "    </tr>\n",
       "  </thead>\n",
       "  <tbody>\n",
       "    <tr>\n",
       "      <th>85</th>\n",
       "      <td>0.006019</td>\n",
       "      <td>0.953472</td>\n",
       "      <td>1.0</td>\n",
       "    </tr>\n",
       "    <tr>\n",
       "      <th>54</th>\n",
       "      <td>-0.033481</td>\n",
       "      <td>0.925021</td>\n",
       "      <td>1.0</td>\n",
       "    </tr>\n",
       "    <tr>\n",
       "      <th>96</th>\n",
       "      <td>0.033802</td>\n",
       "      <td>0.900182</td>\n",
       "      <td>1.0</td>\n",
       "    </tr>\n",
       "    <tr>\n",
       "      <th>89</th>\n",
       "      <td>-0.081465</td>\n",
       "      <td>0.927793</td>\n",
       "      <td>1.0</td>\n",
       "    </tr>\n",
       "    <tr>\n",
       "      <th>77</th>\n",
       "      <td>-0.035401</td>\n",
       "      <td>0.945997</td>\n",
       "      <td>1.0</td>\n",
       "    </tr>\n",
       "    <tr>\n",
       "      <th>74</th>\n",
       "      <td>-0.036819</td>\n",
       "      <td>1.034883</td>\n",
       "      <td>1.0</td>\n",
       "    </tr>\n",
       "    <tr>\n",
       "      <th>94</th>\n",
       "      <td>-0.066177</td>\n",
       "      <td>1.019275</td>\n",
       "      <td>1.0</td>\n",
       "    </tr>\n",
       "    <tr>\n",
       "      <th>87</th>\n",
       "      <td>0.052931</td>\n",
       "      <td>0.938602</td>\n",
       "      <td>1.0</td>\n",
       "    </tr>\n",
       "    <tr>\n",
       "      <th>64</th>\n",
       "      <td>-0.085994</td>\n",
       "      <td>0.950552</td>\n",
       "      <td>1.0</td>\n",
       "    </tr>\n",
       "    <tr>\n",
       "      <th>84</th>\n",
       "      <td>0.059177</td>\n",
       "      <td>1.081242</td>\n",
       "      <td>1.0</td>\n",
       "    </tr>\n",
       "    <tr>\n",
       "      <th>91</th>\n",
       "      <td>-0.079784</td>\n",
       "      <td>0.911456</td>\n",
       "      <td>1.0</td>\n",
       "    </tr>\n",
       "    <tr>\n",
       "      <th>53</th>\n",
       "      <td>-0.054546</td>\n",
       "      <td>0.948933</td>\n",
       "      <td>1.0</td>\n",
       "    </tr>\n",
       "    <tr>\n",
       "      <th>78</th>\n",
       "      <td>-0.082919</td>\n",
       "      <td>0.922077</td>\n",
       "      <td>1.0</td>\n",
       "    </tr>\n",
       "    <tr>\n",
       "      <th>97</th>\n",
       "      <td>-0.069885</td>\n",
       "      <td>1.016334</td>\n",
       "      <td>1.0</td>\n",
       "    </tr>\n",
       "    <tr>\n",
       "      <th>93</th>\n",
       "      <td>0.083542</td>\n",
       "      <td>1.084297</td>\n",
       "      <td>1.0</td>\n",
       "    </tr>\n",
       "    <tr>\n",
       "      <th>65</th>\n",
       "      <td>0.052844</td>\n",
       "      <td>1.075949</td>\n",
       "      <td>1.0</td>\n",
       "    </tr>\n",
       "    <tr>\n",
       "      <th>99</th>\n",
       "      <td>0.060716</td>\n",
       "      <td>0.958886</td>\n",
       "      <td>1.0</td>\n",
       "    </tr>\n",
       "    <tr>\n",
       "      <th>59</th>\n",
       "      <td>-0.062166</td>\n",
       "      <td>0.958767</td>\n",
       "      <td>1.0</td>\n",
       "    </tr>\n",
       "    <tr>\n",
       "      <th>71</th>\n",
       "      <td>-0.086633</td>\n",
       "      <td>0.911201</td>\n",
       "      <td>1.0</td>\n",
       "    </tr>\n",
       "    <tr>\n",
       "      <th>55</th>\n",
       "      <td>0.058460</td>\n",
       "      <td>1.010048</td>\n",
       "      <td>1.0</td>\n",
       "    </tr>\n",
       "    <tr>\n",
       "      <th>92</th>\n",
       "      <td>0.027263</td>\n",
       "      <td>0.914512</td>\n",
       "      <td>1.0</td>\n",
       "    </tr>\n",
       "    <tr>\n",
       "      <th>98</th>\n",
       "      <td>0.034320</td>\n",
       "      <td>1.036781</td>\n",
       "      <td>1.0</td>\n",
       "    </tr>\n",
       "    <tr>\n",
       "      <th>81</th>\n",
       "      <td>-0.005935</td>\n",
       "      <td>1.061744</td>\n",
       "      <td>1.0</td>\n",
       "    </tr>\n",
       "    <tr>\n",
       "      <th>61</th>\n",
       "      <td>-0.019587</td>\n",
       "      <td>0.973833</td>\n",
       "      <td>1.0</td>\n",
       "    </tr>\n",
       "    <tr>\n",
       "      <th>86</th>\n",
       "      <td>-0.066955</td>\n",
       "      <td>1.022071</td>\n",
       "      <td>1.0</td>\n",
       "    </tr>\n",
       "    <tr>\n",
       "      <th>56</th>\n",
       "      <td>-0.005820</td>\n",
       "      <td>1.052661</td>\n",
       "      <td>1.0</td>\n",
       "    </tr>\n",
       "    <tr>\n",
       "      <th>82</th>\n",
       "      <td>0.029326</td>\n",
       "      <td>0.908061</td>\n",
       "      <td>1.0</td>\n",
       "    </tr>\n",
       "    <tr>\n",
       "      <th>60</th>\n",
       "      <td>-0.033086</td>\n",
       "      <td>0.951566</td>\n",
       "      <td>1.0</td>\n",
       "    </tr>\n",
       "    <tr>\n",
       "      <th>62</th>\n",
       "      <td>0.006036</td>\n",
       "      <td>1.032572</td>\n",
       "      <td>1.0</td>\n",
       "    </tr>\n",
       "    <tr>\n",
       "      <th>57</th>\n",
       "      <td>-0.084338</td>\n",
       "      <td>0.905674</td>\n",
       "      <td>1.0</td>\n",
       "    </tr>\n",
       "    <tr>\n",
       "      <th>73</th>\n",
       "      <td>0.082379</td>\n",
       "      <td>0.918320</td>\n",
       "      <td>1.0</td>\n",
       "    </tr>\n",
       "    <tr>\n",
       "      <th>79</th>\n",
       "      <td>0.072529</td>\n",
       "      <td>1.024403</td>\n",
       "      <td>1.0</td>\n",
       "    </tr>\n",
       "    <tr>\n",
       "      <th>90</th>\n",
       "      <td>-0.095059</td>\n",
       "      <td>0.924588</td>\n",
       "      <td>1.0</td>\n",
       "    </tr>\n",
       "    <tr>\n",
       "      <th>50</th>\n",
       "      <td>0.035832</td>\n",
       "      <td>0.980645</td>\n",
       "      <td>1.0</td>\n",
       "    </tr>\n",
       "    <tr>\n",
       "      <th>76</th>\n",
       "      <td>-0.073033</td>\n",
       "      <td>1.066228</td>\n",
       "      <td>1.0</td>\n",
       "    </tr>\n",
       "    <tr>\n",
       "      <th>52</th>\n",
       "      <td>0.080754</td>\n",
       "      <td>1.074193</td>\n",
       "      <td>1.0</td>\n",
       "    </tr>\n",
       "    <tr>\n",
       "      <th>80</th>\n",
       "      <td>0.004696</td>\n",
       "      <td>0.901658</td>\n",
       "      <td>1.0</td>\n",
       "    </tr>\n",
       "    <tr>\n",
       "      <th>66</th>\n",
       "      <td>-0.028700</td>\n",
       "      <td>0.919089</td>\n",
       "      <td>1.0</td>\n",
       "    </tr>\n",
       "    <tr>\n",
       "      <th>83</th>\n",
       "      <td>0.057564</td>\n",
       "      <td>0.944677</td>\n",
       "      <td>1.0</td>\n",
       "    </tr>\n",
       "  </tbody>\n",
       "</table>\n",
       "</div>"
      ],
      "text/plain": [
       "           0         1    2\n",
       "85  0.006019  0.953472  1.0\n",
       "54 -0.033481  0.925021  1.0\n",
       "96  0.033802  0.900182  1.0\n",
       "89 -0.081465  0.927793  1.0\n",
       "77 -0.035401  0.945997  1.0\n",
       "74 -0.036819  1.034883  1.0\n",
       "94 -0.066177  1.019275  1.0\n",
       "87  0.052931  0.938602  1.0\n",
       "64 -0.085994  0.950552  1.0\n",
       "84  0.059177  1.081242  1.0\n",
       "91 -0.079784  0.911456  1.0\n",
       "53 -0.054546  0.948933  1.0\n",
       "78 -0.082919  0.922077  1.0\n",
       "97 -0.069885  1.016334  1.0\n",
       "93  0.083542  1.084297  1.0\n",
       "65  0.052844  1.075949  1.0\n",
       "99  0.060716  0.958886  1.0\n",
       "59 -0.062166  0.958767  1.0\n",
       "71 -0.086633  0.911201  1.0\n",
       "55  0.058460  1.010048  1.0\n",
       "92  0.027263  0.914512  1.0\n",
       "98  0.034320  1.036781  1.0\n",
       "81 -0.005935  1.061744  1.0\n",
       "61 -0.019587  0.973833  1.0\n",
       "86 -0.066955  1.022071  1.0\n",
       "56 -0.005820  1.052661  1.0\n",
       "82  0.029326  0.908061  1.0\n",
       "60 -0.033086  0.951566  1.0\n",
       "62  0.006036  1.032572  1.0\n",
       "57 -0.084338  0.905674  1.0\n",
       "73  0.082379  0.918320  1.0\n",
       "79  0.072529  1.024403  1.0\n",
       "90 -0.095059  0.924588  1.0\n",
       "50  0.035832  0.980645  1.0\n",
       "76 -0.073033  1.066228  1.0\n",
       "52  0.080754  1.074193  1.0\n",
       "80  0.004696  0.901658  1.0\n",
       "66 -0.028700  0.919089  1.0\n",
       "83  0.057564  0.944677  1.0"
      ]
     },
     "execution_count": 672,
     "metadata": {},
     "output_type": "execute_result"
    }
   ],
   "source": []
  },
  {
   "cell_type": "code",
   "execution_count": null,
   "metadata": {},
   "outputs": [],
   "source": []
  }
 ],
 "metadata": {
  "kernelspec": {
   "display_name": "Python 3",
   "language": "python",
   "name": "python3"
  },
  "language_info": {
   "codemirror_mode": {
    "name": "ipython",
    "version": 3
   },
   "file_extension": ".py",
   "mimetype": "text/x-python",
   "name": "python",
   "nbconvert_exporter": "python",
   "pygments_lexer": "ipython3",
   "version": "3.7.3"
  }
 },
 "nbformat": 4,
 "nbformat_minor": 2
}
